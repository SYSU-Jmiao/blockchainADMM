{
 "cells": [
  {
   "cell_type": "markdown",
   "metadata": {},
   "source": [
    "# Goal: Use a smart contract to coordinate decentralized optimization\n",
    "This can model federated machine learning or federated optimization problems\n",
    "\n",
    "We will use the Alternating Direction Method of Multipliers, or ADMM, as the theoretical framework for breaking our problem into ADMM steps.  The general idea is:\n",
    "- Local optmization problems performed locally, based on the last global estimate\n",
    "- An aggregator gathers together the local solutions, then updates the global variable estimate\n",
    "- When the global variable converges, we have reached consensus and the problem is solved\n",
    "\n",
    "We will use Python to perform local computations, then use a smart contract to act as the aggregator step.\n",
    "\n",
    "\n",
    "\n",
    "### Aggregator:\n",
    "The aggregator must:\n",
    "- Accept state updates from participants\n",
    "- Assess whether a sufficient number of participants have submitted updates\n",
    "  - When they have, compute the global variable\n",
    "- Assess whether the problem is 'solved' to sufficient accuracy\n",
    "  - If solved, make the global solution available and alert participants\n",
    "  - If not solved, make the new global estimate availabel and alert participants.\n",
    "\n",
    "We will first examine a federated/private blockchain, where we have a whitelist of allowable participants and know that we can compute the update when all participants on the whitelist have submitted updates. "
   ]
  },
  {
   "cell_type": "markdown",
   "metadata": {},
   "source": [
    "# Alternating Direction Method of Multipliers\n",
    "We would like to combine the generous convergence requirements of the method of multipliers (using augmented lagrangians) and the decomposability of dual decomposition. \n",
    "\n",
    "Assuming we have a problem of the form:\n",
    "$$\n",
    "\\begin{align}\n",
    "\\min_x &\\quad f(x) + g(z)\\\\\n",
    "\\text{s.t.}&\\quad Ax+Bz = c\n",
    "\\end{align}\n",
    "$$\n",
    "which can represent a problem in a single variable which is separable into parts. We form the augmented Lagrangian:\n",
    "$$\n",
    "L_{\\rho}(x,y,z) = f(x)+g(z)+ y^T (Ax + Bz - c) + (\\rho/2) ||Ax + Bz - c||^2_2\n",
    "$$\n",
    "we now consider the update iterations:\n",
    "$$\n",
    "\\begin{align}\n",
    "x^{k+1} &:= \\quad \\text{argmin}_x \\; L_{\\rho}(x      ,y^k,z^k) \\\\\n",
    "z^{k+1} &:= \\quad \\text{argmin}_z \\; L_{\\rho}(x^{k+1},y  ,z^k) \\\\\n",
    "y^{k+1} &:= \\quad y^k + \\rho(Ax^{k+1} + Bz^{k+1} - c)\n",
    "\\end{align}\n",
    "$$\n",
    "Separating the minimization into two steps, each over a single set of variables, is what allows for the decomposition. \n",
    "\n",
    "### Scaled form \n",
    "A more convenient form for tracking convergence can be attained by considering a residual $r=Ax+Bz-c$ on the constraints, in which case\n",
    "$$\n",
    "y^T r + \\frac{\\rho}{2}\\lVert r \\rVert^2_2 \\quad = \\quad \\frac{\\rho}{2}\\lVert r + \\frac{1}{\\rho}y \\rVert^2_2 - \\frac{1}{2\\rho}||y||^2_2 \\quad = \\quad \\frac{\\rho}{2}\\lVert r + u \\rVert^2_2 - \\frac{\\rho}{2}\\lVert u \\rVert^2_2\n",
    "$$\n",
    "where the 2-norm is expanded into a quadratic term to allow for collection of the $y$ terms. This allows the ADMM updates to be expressed as:\n",
    "$$\n",
    "\\begin{align}\n",
    "x^{k+1} &:= \\quad \\text{argmin}_x \\; f(x) + \\frac{\\rho}{2}\\lVert Ax + Bz^k - c + u^k \\rVert^2_2 \\\\\n",
    "z^{k+1} &:= \\quad \\text{argmin}_z \\; g(x) + \\frac{\\rho}{2}\\lVert Ax^{k+1} + Bz - c + u^k \\rVert^2_2 \\\\\n",
    "u^{k+1} &:= \\quad u^k + Ax^{k+1} + Bz^{k+1} - c\n",
    "\\end{align}\n",
    "$$"
   ]
  },
  {
   "cell_type": "markdown",
   "metadata": {},
   "source": [
    "# Simplest ADMM example\n",
    "\n",
    "$$\n",
    "\\begin{align}\n",
    "\\min_{x,z}  & \\quad x^2 + 2z^2 \\\\\n",
    "\\text{s.t.} & \\quad x + z = 4\n",
    "\\end{align}\n",
    "$$\n",
    "\n",
    "In standard ADMM form, $A=1,\\; B=1,\\; c=4,\\; f=x^2,\\; g=2z^2$ and the Augmented Lagrangian is:\n",
    "$$\n",
    "\\begin{align}\n",
    "L_{\\rho}(x,y,z) &= x^2 + 2z^2 + y^T(x+z-c) + (\\rho/2)\\lVert x+z-c \\rVert^2_2\\\\\n",
    "&= x^2 + 2z^2 + yx + yz - cy + \\frac{\\rho}{2} \\left( x^2 + z^2 -2cx -2cz + 2xz + c^2 \\right)\n",
    "\\end{align}\n",
    "$$\n",
    "and thus the closed-form solution for the minimizer steps will be:\n",
    "$$\n",
    "\\begin{align}\n",
    "x^{k+1} &= \\frac{1}{2+\\rho}\\left( \\rho c - y^k - \\rho z^k        \\right)\\\\\n",
    "z^{k+1} &= \\frac{1}{4+\\rho}\\left( \\rho c - y^k - \\rho x^{k+1} \\right)\\\\\n",
    "y^{k+1} &= y^k + \\rho x^{k+1} + \\rho z^{k+1} - \\rho c\n",
    "\\end{align}\n",
    "$$"
   ]
  },
  {
   "cell_type": "code",
   "execution_count": 1,
   "metadata": {},
   "outputs": [],
   "source": [
    "import pandas as pd\n",
    "import matplotlib.pyplot as plt\n",
    "% matplotlib inline\n",
    "from cvxpy import *"
   ]
  },
  {
   "cell_type": "code",
   "execution_count": 2,
   "metadata": {},
   "outputs": [
    {
     "name": "stdout",
     "output_type": "stream",
     "text": [
      "Solution at x=2.667, z=1.333\n"
     ]
    }
   ],
   "source": [
    "## Use an off-the-shelf constrained optimization solver (CvxPy)\n",
    "x = Variable()\n",
    "z = Variable()\n",
    "\n",
    "obj = Minimize(x**2 + 2*z**2)\n",
    "constraints = [x + z == 4]\n",
    "result = Problem(obj,constraints).solve()\n",
    "\n",
    "print(\"Solution at x=%.3f, z=%.3f\"%(x.value,z.value))"
   ]
  },
  {
   "cell_type": "code",
   "execution_count": 3,
   "metadata": {},
   "outputs": [
    {
     "name": "stdout",
     "output_type": "stream",
     "text": [
      "Solution at x=2.667, z=1.333\n"
     ]
    },
    {
     "data": {
      "text/plain": [
       "<matplotlib.axes._subplots.AxesSubplot at 0x1166f0310>"
      ]
     },
     "execution_count": 3,
     "metadata": {},
     "output_type": "execute_result"
    },
    {
     "data": {
      "image/png": "[encoded data removed]",
      "text/plain": [
       "<matplotlib.figure.Figure at 0x1166ddc10>"
      ]
     },
     "metadata": {},
     "output_type": "display_data"
    }
   ],
   "source": [
    "## Centralized Form\n",
    "\n",
    "iterations = 20\n",
    "x,y,z = [[float('NaN')]*iterations for i in range(3)]\n",
    "x[0],y[0],z[0] = [0,0,0]\n",
    "\n",
    "rho = 2\n",
    "c = 4\n",
    "\n",
    "for i in xrange(1,iterations):\n",
    "    x[i] = 1/(2.+rho) * (c*rho - y[i-1] - rho*z[i-1])\n",
    "    z[i] = 1/(4.+rho) * (c*rho - y[i-1] - rho*x[i])\n",
    "    y[i] = y[i-1] + rho * (x[i] + z[i] - c)\n",
    "    \n",
    "print(\"Solution at x=%.3f, z=%.3f\"%(x[-1],z[-1]))\n",
    "df = pd.DataFrame([x,y,z],index=['x','y','z']).T\n",
    "df.plot()"
   ]
  },
  {
   "cell_type": "markdown",
   "metadata": {},
   "source": [
    "# Super-Simple Aggregator:\n",
    "This is based on AggSimple.sol\n",
    "\n",
    "Aggregator runs the simple conventional ADMM update step: $y^+ = y + \\rho(Ax+Bz-c)$\n",
    "\n",
    "No checks on the iteration number submitted from each of the participants, or the stopping number- this could keep getting called forever!\n",
    "\n",
    "### Infrastructure setup:\n",
    "This requires the following:\n",
    "- **PATCHED** Ethjsonrpc: download from https://github.com/emunsing/ethjsonrpc and run setup.py\n",
    "- Truffle: Used for deploying the contracts\n",
    "- Testrpc: Useful for running a local test node\n",
    " \n",
    "My process for deploying:\n",
    "- Install Python packages including *the patched version from github of* `ethjsonrpc`\n",
    "- Run `$ jupyter notebook` and run this iPython notebook\n",
    "- In a separate terminal window, run `$ testrpc` to get a testrpc network going\n",
    "- In a separate terminal window, run `$ truffle migrate --reset` to compile the contracts and deploy them to the test network\n",
    "\n",
    "Caveats: This has not been deployed on the main Ethereum network (or even the testnet); it also has not been run through any security checks. The goal is for transparency and ease of teaching/exposition, not robustness or security!"
   ]
  },
  {
   "cell_type": "code",
   "execution_count": 4,
   "metadata": {
    "collapsed": true
   },
   "outputs": [],
   "source": [
    "from ethjsonrpc import EthJsonRpc, BadResponseError\n",
    "conn = EthJsonRpc('127.0.0.1', 8545)"
   ]
  },
  {
   "cell_type": "code",
   "execution_count": 5,
   "metadata": {},
   "outputs": [
    {
     "data": {
      "text/plain": [
       "'0xa5ab9b0b411ee608d4aecffaeea8d653aa6f61ad'"
      ]
     },
     "execution_count": 5,
     "metadata": {},
     "output_type": "execute_result"
    }
   ],
   "source": [
    "x_addr = conn.eth_accounts()[0]\n",
    "z_addr = conn.eth_accounts()[1]\n",
    "\n",
    "contractAddr = open('AggSimpleAddress.txt','rb').read()\n",
    "contractAddr"
   ]
  },
  {
   "cell_type": "code",
   "execution_count": 6,
   "metadata": {},
   "outputs": [
    {
     "data": {
      "text/plain": [
       "<matplotlib.axes._subplots.AxesSubplot at 0x1187919d0>"
      ]
     },
     "execution_count": 6,
     "metadata": {},
     "output_type": "execute_result"
    },
    {
     "data": {
      "image/png": "[encoded data removed]",
      "text/plain": [
       "<matplotlib.figure.Figure at 0x11885ac90>"
      ]
     },
     "metadata": {},
     "output_type": "display_data"
    }
   ],
   "source": [
    "iterations = 20;\n",
    "resultDf = pd.DataFrame(index = range(iterations),columns=['x','z','y'])\n",
    "\n",
    "x_addr = conn.eth_accounts()[0]\n",
    "z_addr = conn.eth_accounts()[1]\n",
    "\n",
    "#### ADMM loop: Update x, update z, update y\n",
    "# General information: this can be called separately by each participant\n",
    "rho = conn.call(contractAddr,'rho()',[],['int256'])[0]\n",
    "c   = conn.call(contractAddr,'c()',[],['int256'])[0]\n",
    "\n",
    "i = 0\n",
    "resultDf.loc[0,:] = [0,0,0]\n",
    "\n",
    "for i in range(1, iterations):\n",
    "    ### X LOCAL CALCULATION: need to retrieve z and y\n",
    "    z = conn.call(contractAddr,'z()',[],['int256'])[0]\n",
    "    y = conn.call(contractAddr,'y()',[],['int256'])[0]\n",
    "    x = int( 1/(2.+rho) * (c*rho - y - rho*z) )\n",
    "    # Submit the x-update\n",
    "    tx = conn.call_with_transaction(x_addr, contractAddr, 'setX(int256)',[x])\n",
    "    while conn.eth_getTransactionReceipt(tx) is None:\n",
    "        time.sleep(0.1) # Wait for the transaction to be mined and state changes to take effect\n",
    "\n",
    "    # Z LOCAL CALCULATION: This needs to processed after the x-update\n",
    "    x = conn.call(contractAddr,'x()',[],['int256'])[0]\n",
    "    y = conn.call(contractAddr,'y()',[],['int256'])[0]\n",
    "    z = int( 1/(4.+rho) * (c*rho - y - rho*x) )\n",
    "    tx = conn.call_with_transaction(z_addr, contractAddr, 'setZ(int256)',[z])\n",
    "    while conn.eth_getTransactionReceipt(tx) is None:\n",
    "        time.sleep(0.2) # Wait for the transaction to be mined and state changes to take effect\n",
    "\n",
    "    # Update y: this happens on the blockchain\n",
    "    tx = conn.call_with_transaction(x_addr, contractAddr, 'updateY()',[])\n",
    "    while conn.eth_getTransactionReceipt(tx) is None:\n",
    "        time.sleep(0.1) # Wait for the transaction to be mined and state changes to take effect\n",
    "        \n",
    "    # Save the values of the state for this iteration:\n",
    "    y = conn.call(contractAddr,'y()',[],['int256'])[0]\n",
    "    resultDf.loc[i,:] = [x,z,y]\n",
    "\n",
    "resultDf.plot()"
   ]
  },
  {
   "cell_type": "code",
   "execution_count": null,
   "metadata": {
    "collapsed": true
   },
   "outputs": [],
   "source": [
    "# Use this if you want to reset the variable values to run it again\n",
    "tx = conn.call_with_transaction(z_addr, contractAddr, 'setX(int256)',[0])\n",
    "tx = conn.call_with_transaction(z_addr, contractAddr, 'setZ(int256)',[0])\n",
    "tx = conn.call_with_transaction(z_addr, contractAddr, 'setY(int256)',[0])"
   ]
  },
  {
   "cell_type": "markdown",
   "metadata": {},
   "source": [
    "# Manage access and make variable updates automatic\n",
    "\n",
    "The contract `Aggregator.sol` extends the above approach in two important ways:\n",
    "- Making sure that each participant can only update the variables which they are responsible for\n",
    "- Checks whether the solution has converged to within acceptable bounds and we can consider the problem 'solved'\n",
    "\n",
    "There are two stopping criteria which we want to satisfy: $||r^k||_2 \\leq \\epsilon^{\\text{pri}},\\; ||s^k||_2 \\leq \\epsilon^{\\text{dual}}$ \n",
    "- **Primal Residual:**    $\\quad r^{k+1} = Ax^{k+1} + Bz^{k+1} - c$\n",
    "- **Dual Residual:**     $\\quad s^{k+1} = \\rho A^T B(z^{k+1} - z^k$)\n",
    "\n",
    "These tolerances can be set in the smart contract by adjusting the variables `eps_pri` and `eps_dual`"
   ]
  },
  {
   "cell_type": "code",
   "execution_count": 7,
   "metadata": {},
   "outputs": [
    {
     "data": {
      "text/plain": [
       "'0xe192a96f1ebb53aa25fdd4f7879bf78b6649e48f'"
      ]
     },
     "execution_count": 7,
     "metadata": {},
     "output_type": "execute_result"
    }
   ],
   "source": [
    "x_addr = conn.eth_accounts()[0]\n",
    "z_addr = conn.eth_accounts()[1]\n",
    "\n",
    "contractAddr = open('AggregatorAddress.txt','rb').read()\n",
    "contractAddr"
   ]
  },
  {
   "cell_type": "code",
   "execution_count": 8,
   "metadata": {},
   "outputs": [
    {
     "name": "stdout",
     "output_type": "stream",
     "text": [
      "Primal residual r=1333333334,\t Dual residual s=1333333332, \t problemSolved is False\n",
      "Primal residual r=666666666,\t Dual residual s=666666668, \t problemSolved is False\n",
      "Primal residual r=333333334,\t Dual residual s=333333332, \t problemSolved is False\n",
      "Primal residual r=166666666,\t Dual residual s=166666668, \t problemSolved is False\n",
      "Primal residual r=83333334,\t Dual residual s=83333332, \t problemSolved is False\n",
      "Primal residual r=41666666,\t Dual residual s=41666668, \t problemSolved is False\n",
      "Primal residual r=20833334,\t Dual residual s=20833332, \t problemSolved is False\n",
      "Primal residual r=10416666,\t Dual residual s=10416668, \t problemSolved is False\n",
      "Primal residual r=5208334,\t Dual residual s=5208332, \t problemSolved is False\n",
      "Primal residual r=2604166,\t Dual residual s=2604168, \t problemSolved is False\n",
      "Primal residual r=1302084,\t Dual residual s=1302082, \t problemSolved is False\n",
      "Primal residual r=651042,\t Dual residual s=651042, \t problemSolved is False\n",
      "Primal residual r=325520,\t Dual residual s=325522, \t problemSolved is False\n",
      "Primal residual r=162761,\t Dual residual s=162760, \t problemSolved is False\n",
      "Primal residual r=81380,\t Dual residual s=81380, \t problemSolved is True\n"
     ]
    },
    {
     "data": {
      "text/plain": [
       "<matplotlib.axes._subplots.AxesSubplot at 0x11878f790>"
      ]
     },
     "execution_count": 8,
     "metadata": {},
     "output_type": "execute_result"
    },
    {
     "data": {
      "image/png": "[encoded data removed]",
      "text/plain": [
       "<matplotlib.figure.Figure at 0x118791850>"
      ]
     },
     "metadata": {},
     "output_type": "display_data"
    }
   ],
   "source": [
    "iterations = 20;\n",
    "resultDf = pd.DataFrame(index = range(iterations),columns=['x','z','y'])\n",
    "\n",
    "x_addr = conn.eth_accounts()[0]\n",
    "z_addr = conn.eth_accounts()[1]\n",
    "\n",
    "updateXfcn = 'submitValue(int256,uint16)'\n",
    "updateZfcn = 'submitValue(int256,uint16)'\n",
    "updateYfcn = None\n",
    "\n",
    "#### ADMM loop: Update x, update z, update y\n",
    "# General information: this can be called separately by each participant\n",
    "rho = conn.call(contractAddr,'rho()',[],['int256'])[0]\n",
    "c   = conn.call(contractAddr,'c()',[],['int256'])[0]\n",
    "\n",
    "i = 0\n",
    "resultDf.loc[0,:] = [0,0,0]\n",
    "\n",
    "for i in range(1, 20):\n",
    "    ### X LOCAL CALCULATION: need to retrieve z and y\n",
    "    z = conn.call(contractAddr,'z()',[],['int256'])[0]\n",
    "    y = conn.call(contractAddr,'y()',[],['int256'])[0]\n",
    "    x = int( 1/(2.+rho) * (c*rho - y - rho*z) )\n",
    "    # Submit the x-update\n",
    "    tx = conn.call_with_transaction(x_addr, contractAddr, updateXfcn,[x,i], gas=int(300e3))\n",
    "    while conn.eth_getTransactionReceipt(tx) is None:\n",
    "        time.sleep(0.1) # Wait for the transaction to be mined and state changes to take effect\n",
    "\n",
    "    # Z LOCAL CALCULATION: This needs to processed after the x-update\n",
    "    x = conn.call(contractAddr,'x()',[],['int256'])[0]\n",
    "    y = conn.call(contractAddr,'y()',[],['int256'])[0]\n",
    "    z = int( 1/(4.+rho) * (c*rho - y - rho*x) )\n",
    "    tx = conn.call_with_transaction(z_addr, contractAddr, updateZfcn,[z,i], gas=int(300e3))\n",
    "    while conn.eth_getTransactionReceipt(tx) is None:\n",
    "        time.sleep(0.2) # Wait for the transaction to be mined and state changes to take effect\n",
    "\n",
    "    # Update y: this happens on the blockchain\n",
    "    if updateYfcn is not None:\n",
    "        tx = conn.call_with_transaction(x_addr, contractAddr, 'updateY()',[])\n",
    "        while conn.eth_getTransactionReceipt(tx) is None:\n",
    "            time.sleep(0.1) # Wait for the transaction to be mined and state changes to take effect\n",
    "        \n",
    "    # Save the values of the state for this iteration:\n",
    "    y = conn.call(contractAddr,'y()',[],['int256'])[0]\n",
    "    resultDf.loc[i,:] = [x,z,y]\n",
    "    r = conn.call(contractAddr,'r()',[],['int256'])[0]\n",
    "    s = conn.call(contractAddr,'s()',[],['int256'])[0]\n",
    "    solved =  conn.call(contractAddr,'problemSolved()',[],['bool'])[0]\n",
    "    print(\"Primal residual r=%s,\\t Dual residual s=%s, \\t problemSolved is %s\"%(r,s,solved))\n",
    "    if solved: break\n",
    "    \n",
    "\n",
    "resultDf.plot()"
   ]
  }
 ],
 "metadata": {
  "kernelspec": {
   "display_name": "Python 2",
   "language": "python",
   "name": "python2"
  },
  "language_info": {
   "codemirror_mode": {
    "name": "ipython",
    "version": 2
   },
   "file_extension": ".py",
   "mimetype": "text/x-python",
   "name": "python",
   "nbconvert_exporter": "python",
   "pygments_lexer": "ipython2",
   "version": "2.7.14"
  }
 },
 "nbformat": 4,
 "nbformat_minor": 2
}
